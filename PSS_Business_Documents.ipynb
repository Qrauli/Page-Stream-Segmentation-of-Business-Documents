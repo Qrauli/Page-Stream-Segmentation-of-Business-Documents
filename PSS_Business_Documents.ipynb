{
 "nbformat": 4,
 "nbformat_minor": 0,
 "metadata": {
  "colab": {
   "provenance": []
  },
  "kernelspec": {
   "name": "python3",
   "display_name": "Python 3"
  },
  "language_info": {
   "name": "python"
  },
  "accelerator": "GPU",
  "gpuClass": "standard"
 },
 "cells": [
  {
   "cell_type": "markdown",
   "source": [
    "**PSS for Business Documents - Notebook**\n",
    "\n",
    "Steps:\n",
    "*   Enable GPU: Runtime -> Change runtime type -> Hardware accelerator = GPU\n",
    "*   Run cells in order\n",
    "*   First url output by last cell is address leading to Swagger UI of the app\n",
    "\n",
    "\n"
   ],
   "metadata": {
    "id": "Voz3vimdBczK"
   }
  },
  {
   "cell_type": "code",
   "source": [
    "#@title Clone git repository\n",
    "!git clone -b main --single-branch https://github.com/Qrauli/Page-Stream-Segmentation-of-Business-Documents.git \n",
    "%cd Page-Stream-Segmentation-of-Business-Documents"
   ],
   "metadata": {
    "id": "TWfX-_O5xyKE",
    "cellView": "form"
   },
   "execution_count": null,
   "outputs": []
  },
  {
   "cell_type": "code",
   "source": [
    "#@title Install requirements\n",
    "!pip install -r requirements.txt\n",
    "!apt-get -y install tesseract-ocr\n",
    "!apt-get install poppler-utils -y\n",
    "!pip install fastapi nest-asyncio pyngrok uvicorn\n",
    "!wget -q https://github.com/cloudflare/cloudflared/releases/latest/download/cloudflared-linux-amd64.deb\n",
    "!apt install ./cloudflared-linux-amd64.deb aria2\n",
    "!rm cloudflared-linux-amd64.deb"
   ],
   "metadata": {
    "id": "qeDXLEQeBPiS",
    "cellView": "form"
   },
   "execution_count": null,
   "outputs": []
  },
  {
   "cell_type": "code",
   "source": [
    "#@title Run tunnel and app\n",
    "#ngrok_auth_token = \"\" #@param {type:\"string\"}\n",
    "#@markdown - First url output \"https://.*trycloudflare.com/docs\" is the address leading to Swagger UI of the app.\n",
    "#@markdown - Only available after local url appears at the end of server startup.\n",
    "import nest_asyncio\n",
    "\n",
    "!pkill cloudflared\n",
    "!rm nohup.out 2> /dev/null\n",
    "!nohup cloudflared --url http://127.0.0.1:8000 &\n",
    "!sleep 5 && grep --color=never -o 'https://.*trycloudflare.com' < nohup.out | sed 's/^/Once the local URL below shows, the Cloudflare URL for Swagger UI is: /' | echo \"$(</dev/stdin)/docs\"\n",
    "\n",
    "nest_asyncio.apply()\n",
    "!uvicorn app:app --host 0.0.0.0 --port 8000"
   ],
   "metadata": {
    "id": "E8opgl4OIObV",
    "cellView": "form"
   },
   "execution_count": null,
   "outputs": []
  }
 ]
}
